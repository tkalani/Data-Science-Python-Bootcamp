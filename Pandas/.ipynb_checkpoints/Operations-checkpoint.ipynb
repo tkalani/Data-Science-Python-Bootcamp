{
 "cells": [
  {
   "cell_type": "code",
   "execution_count": 1,
   "metadata": {},
   "outputs": [],
   "source": [
    "import numpy as np\n",
    "import pandas as pd"
   ]
  },
  {
   "cell_type": "code",
   "execution_count": 14,
   "metadata": {},
   "outputs": [
    {
     "name": "stdout",
     "output_type": "stream",
     "text": [
      "   col1  col2  col3\n",
      "0     1   444   abc\n",
      "1     2   555   def\n",
      "2     3   666   ghi\n",
      "3     4   444  jklm\n",
      "   col1  col2  col3\n",
      "0     1   444   abc\n",
      "1     2   555   def\n",
      "2     3   666   ghi\n",
      "3     4   444  jklm\n"
     ]
    }
   ],
   "source": [
    "df = pd.DataFrame({'col1': [1, 2, 3, 4],\n",
    "                  'col2': [444, 555, 666, 444],\n",
    "                  'col3': ['abc', 'def', 'ghi', 'jklm']})\n",
    "print(df)\n",
    "print(df.head())"
   ]
  },
  {
   "cell_type": "code",
   "execution_count": 7,
   "metadata": {},
   "outputs": [
    {
     "name": "stdout",
     "output_type": "stream",
     "text": [
      "[444 555 666]\n",
      "3\n",
      "3\n"
     ]
    }
   ],
   "source": [
    "print(df['col2'].unique()) # All unique values in 'col2'\n",
    "print(len(df['col2'].unique())) # number of unique values\n",
    "print(df['col2'].nunique()) # number of unique values"
   ]
  },
  {
   "cell_type": "code",
   "execution_count": 9,
   "metadata": {},
   "outputs": [
    {
     "name": "stdout",
     "output_type": "stream",
     "text": [
      "444    2\n",
      "555    1\n",
      "666    1\n",
      "Name: col2, dtype: int64\n"
     ]
    }
   ],
   "source": [
    "print(df['col2'].value_counts()) # How many times each unique value occur"
   ]
  },
  {
   "cell_type": "code",
   "execution_count": 11,
   "metadata": {},
   "outputs": [
    {
     "name": "stdout",
     "output_type": "stream",
     "text": [
      "   col1  col2 col3\n",
      "3     4   444  jkl\n"
     ]
    }
   ],
   "source": [
    "print(df[(df['col1']>2) & (df['col2']==444)]) # Conditional operators"
   ]
  },
  {
   "cell_type": "code",
   "execution_count": 16,
   "metadata": {},
   "outputs": [
    {
     "name": "stdout",
     "output_type": "stream",
     "text": [
      "0    2\n",
      "1    4\n",
      "2    6\n",
      "3    8\n",
      "Name: col1, dtype: int64\n",
      "0    3\n",
      "1    3\n",
      "2    3\n",
      "3    4\n",
      "Name: col3, dtype: int64\n",
      "0     888\n",
      "1    1110\n",
      "2    1332\n",
      "3     888\n",
      "Name: col2, dtype: int64\n"
     ]
    }
   ],
   "source": [
    "# Apply custom functions on DataFrames using apply()\n",
    "\n",
    "def times2(x):\n",
    "    return 2*x\n",
    "\n",
    "print(df['col1'].apply(times2))\n",
    "print(df['col3'].apply(len))\n",
    "\n",
    "print(df['col2'].apply(lambda x: x*2))"
   ]
  },
  {
   "cell_type": "code",
   "execution_count": 19,
   "metadata": {},
   "outputs": [
    {
     "name": "stdout",
     "output_type": "stream",
     "text": [
      "   col2  col3\n",
      "0   444   abc\n",
      "1   555   def\n",
      "2   666   ghi\n",
      "3   444  jklm\n",
      "   col1  col2  col3\n",
      "0     1   444   abc\n",
      "1     2   555   def\n",
      "2     3   666   ghi\n",
      "3     4   444  jklm\n"
     ]
    }
   ],
   "source": [
    "print(df.drop('col1', axis=1)) # Not inplace\n",
    "print(df)"
   ]
  },
  {
   "cell_type": "code",
   "execution_count": 23,
   "metadata": {},
   "outputs": [
    {
     "name": "stdout",
     "output_type": "stream",
     "text": [
      "Index(['col1', 'col2', 'col3'], dtype='object')\n",
      "RangeIndex(start=0, stop=4, step=1)\n"
     ]
    }
   ],
   "source": [
    "print(df.columns)\n",
    "print(df.index)"
   ]
  },
  {
   "cell_type": "code",
   "execution_count": 27,
   "metadata": {},
   "outputs": [
    {
     "name": "stdout",
     "output_type": "stream",
     "text": [
      "   col1  col2  col3\n",
      "0     1   444   abc\n",
      "3     4   444  jklm\n",
      "1     2   555   def\n",
      "2     3   666   ghi\n"
     ]
    }
   ],
   "source": [
    "print(df.sort_values(by='col2')) # Sort values by col2"
   ]
  },
  {
   "cell_type": "code",
   "execution_count": 28,
   "metadata": {},
   "outputs": [
    {
     "name": "stdout",
     "output_type": "stream",
     "text": [
      "    col1   col2   col3\n",
      "0  False  False  False\n",
      "1  False  False  False\n",
      "2  False  False  False\n",
      "3  False  False  False\n"
     ]
    }
   ],
   "source": [
    "print(df.isnull()) # True where values are null in dataframe"
   ]
  },
  {
   "cell_type": "code",
   "execution_count": 33,
   "metadata": {},
   "outputs": [
    {
     "name": "stdout",
     "output_type": "stream",
     "text": [
      "     A    B  C  D\n",
      "0  foo  one  x  1\n",
      "1  foo  one  y  3\n",
      "2  foo  two  x  2\n",
      "3  bar  two  y  5\n",
      "4  bar  one  x  4\n",
      "5  bar  one  y  1\n",
      "\n",
      "\n",
      "\n",
      "C          x    y\n",
      "A   B            \n",
      "bar one  4.0  1.0\n",
      "    two  NaN  5.0\n",
      "foo one  1.0  3.0\n",
      "    two  2.0  NaN\n"
     ]
    }
   ],
   "source": [
    "data = {'A': ['foo', 'foo', 'foo', 'bar', 'bar', 'bar'],\n",
    "       'B': ['one', 'one', 'two', 'two', 'one', 'one'],\n",
    "       'C': ['x', 'y', 'x', 'y', 'x', 'y'],\n",
    "       'D': [1, 3, 2, 5, 4, 1]}\n",
    "df = pd.DataFrame(data)\n",
    "print(df)\n",
    "print(\"\\n\\n\")\n",
    "\n",
    "# values as Data Points\n",
    "# index as multi-level index\n",
    "# columns \n",
    "print(df.pivot_table(values='D', index=['A', 'B'], columns=['C']))"
   ]
  },
  {
   "cell_type": "code",
   "execution_count": null,
   "metadata": {},
   "outputs": [],
   "source": []
  }
 ],
 "metadata": {
  "kernelspec": {
   "display_name": "Python 3",
   "language": "python",
   "name": "python3"
  },
  "language_info": {
   "codemirror_mode": {
    "name": "ipython",
    "version": 3
   },
   "file_extension": ".py",
   "mimetype": "text/x-python",
   "name": "python",
   "nbconvert_exporter": "python",
   "pygments_lexer": "ipython3",
   "version": "3.6.5"
  }
 },
 "nbformat": 4,
 "nbformat_minor": 2
}
