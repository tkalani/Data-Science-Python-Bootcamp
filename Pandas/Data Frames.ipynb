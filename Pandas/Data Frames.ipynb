{
 "cells": [
  {
   "cell_type": "code",
   "execution_count": 30,
   "metadata": {},
   "outputs": [],
   "source": [
    "import numpy as np\n",
    "import pandas as pd\n",
    "\n",
    "from numpy.random import randn"
   ]
  },
  {
   "cell_type": "code",
   "execution_count": 31,
   "metadata": {},
   "outputs": [],
   "source": [
    "np.random.seed(101)"
   ]
  },
  {
   "cell_type": "code",
   "execution_count": null,
   "metadata": {},
   "outputs": [],
   "source": []
  },
  {
   "cell_type": "code",
   "execution_count": 32,
   "metadata": {},
   "outputs": [
    {
     "name": "stdout",
     "output_type": "stream",
     "text": [
      "          W         X         Y         Z\n",
      "A  2.706850  0.628133  0.907969  0.503826\n",
      "B  0.651118 -0.319318 -0.848077  0.605965\n",
      "C -2.018168  0.740122  0.528813 -0.589001\n",
      "D  0.188695 -0.758872 -0.933237  0.955057\n",
      "E  0.190794  1.978757  2.605967  0.683509\n"
     ]
    }
   ],
   "source": [
    "# All rows and columns are series\n",
    "\n",
    "df = pd.DataFrame(data=randn(5, 4), index=['A','B','C','D','E'], columns=['W','X','Y','Z'])\n",
    "print(df)"
   ]
  },
  {
   "cell_type": "code",
   "execution_count": 33,
   "metadata": {},
   "outputs": [
    {
     "name": "stdout",
     "output_type": "stream",
     "text": [
      "A    2.706850\n",
      "B    0.651118\n",
      "C   -2.018168\n",
      "D    0.188695\n",
      "E    0.190794\n",
      "Name: W, dtype: float64\n",
      "<class 'pandas.core.series.Series'>\n",
      "<class 'pandas.core.frame.DataFrame'>\n",
      "          W         Z\n",
      "A  2.706850  0.503826\n",
      "B  0.651118  0.605965\n",
      "C -2.018168 -0.589001\n",
      "D  0.188695  0.955057\n",
      "E  0.190794  0.683509\n"
     ]
    }
   ],
   "source": [
    "# Fetching Columns\n",
    "\n",
    "print(df['W'])\n",
    "\n",
    "print(type(df['W']))\n",
    "print(type(df))\n",
    "\n",
    "print(df[['W','Z']])"
   ]
  },
  {
   "cell_type": "code",
   "execution_count": 34,
   "metadata": {},
   "outputs": [
    {
     "name": "stdout",
     "output_type": "stream",
     "text": [
      "          W         X         Y         Z       new\n",
      "A  2.706850  0.628133  0.907969  0.503826  3.614819\n",
      "B  0.651118 -0.319318 -0.848077  0.605965 -0.196959\n",
      "C -2.018168  0.740122  0.528813 -0.589001 -1.489355\n",
      "D  0.188695 -0.758872 -0.933237  0.955057 -0.744542\n",
      "E  0.190794  1.978757  2.605967  0.683509  2.796762\n",
      "          W         X         Y         Z       new\n",
      "A  2.706850  0.628133  0.907969  0.503826  3.614819\n",
      "B  0.651118 -0.319318 -0.848077  0.605965 -0.196959\n",
      "C -2.018168  0.740122  0.528813 -0.589001 -1.489355\n",
      "D  0.188695 -0.758872 -0.933237  0.955057 -0.744542\n",
      "E  0.190794  1.978757  2.605967  0.683509  2.796762\n",
      "          W         X         Y         Z\n",
      "A  2.706850  0.628133  0.907969  0.503826\n",
      "B  0.651118 -0.319318 -0.848077  0.605965\n",
      "C -2.018168  0.740122  0.528813 -0.589001\n",
      "D  0.188695 -0.758872 -0.933237  0.955057\n",
      "E  0.190794  1.978757  2.605967  0.683509\n"
     ]
    }
   ],
   "source": [
    "# Create new column\n",
    "df['new'] = df['W']+df['Y']\n",
    "print(df)\n",
    "\n",
    "# Does not happen inplace\n",
    "df.drop('new', axis=1) # use axis=1 for columns and axis=0 for rows.\n",
    "print(df)\n",
    "\n",
    "# To delete column inplace\n",
    "df.drop('new', axis=1, inplace=True)\n",
    "print(df)\n",
    "\n",
    "# Delete Row\n",
    "# df.drop('E', inplace=True)  # For rows axis=0 is optional\n",
    "# print(df)"
   ]
  },
  {
   "cell_type": "code",
   "execution_count": 35,
   "metadata": {},
   "outputs": [
    {
     "name": "stdout",
     "output_type": "stream",
     "text": [
      "W    2.706850\n",
      "X    0.628133\n",
      "Y    0.907969\n",
      "Z    0.503826\n",
      "Name: A, dtype: float64\n",
      "W   -2.018168\n",
      "X    0.740122\n",
      "Y    0.528813\n",
      "Z   -0.589001\n",
      "Name: C, dtype: float64\n"
     ]
    }
   ],
   "source": [
    "# Fetching Rows\n",
    "\n",
    "print(df.loc['A']) # Get by name\n",
    "print(df.iloc[2]) # Get by rows"
   ]
  },
  {
   "cell_type": "code",
   "execution_count": 36,
   "metadata": {},
   "outputs": [
    {
     "name": "stdout",
     "output_type": "stream",
     "text": [
      "-0.8480769834036315\n",
      "          W         Y\n",
      "A  2.706850  0.907969\n",
      "B  0.651118 -0.848077\n"
     ]
    }
   ],
   "source": [
    "# Get a particular cell\n",
    "print(df.loc['B','Y']) # d.loc[row, columns]\n",
    "\n",
    "print(df.loc[['A', 'B'], ['W','Y']])"
   ]
  },
  {
   "cell_type": "code",
   "execution_count": 37,
   "metadata": {},
   "outputs": [
    {
     "name": "stdout",
     "output_type": "stream",
     "text": [
      "       W      X      Y      Z\n",
      "A   True   True   True   True\n",
      "B   True  False  False   True\n",
      "C  False   True   True  False\n",
      "D   True  False  False   True\n",
      "E   True   True   True   True\n",
      "          W         X         Y         Z\n",
      "A  2.706850  0.628133  0.907969  0.503826\n",
      "B  0.651118       NaN       NaN  0.605965\n",
      "C       NaN  0.740122  0.528813       NaN\n",
      "D  0.188695       NaN       NaN  0.955057\n",
      "E  0.190794  1.978757  2.605967  0.683509\n",
      "A     True\n",
      "B     True\n",
      "C    False\n",
      "D     True\n",
      "E     True\n",
      "Name: W, dtype: bool\n",
      "          W         X         Y         Z\n",
      "A  2.706850  0.628133  0.907969  0.503826\n",
      "B  0.651118 -0.319318 -0.848077  0.605965\n",
      "D  0.188695 -0.758872 -0.933237  0.955057\n",
      "E  0.190794  1.978757  2.605967  0.683509\n",
      "          W         X         Y         Z\n",
      "C -2.018168  0.740122  0.528813 -0.589001\n",
      "          Y         Z\n",
      "A  0.907969  0.503826\n",
      "B -0.848077  0.605965\n",
      "D -0.933237  0.955057\n",
      "E  2.605967  0.683509\n",
      "          W         X         Y         Z\n",
      "E  0.190794  1.978757  2.605967  0.683509\n",
      "          W         X         Y         Z\n",
      "A  2.706850  0.628133  0.907969  0.503826\n",
      "B  0.651118 -0.319318 -0.848077  0.605965\n",
      "D  0.188695 -0.758872 -0.933237  0.955057\n",
      "E  0.190794  1.978757  2.605967  0.683509\n"
     ]
    }
   ],
   "source": [
    "# Condtional Statements\n",
    "\n",
    "print(df > 0)\n",
    "print(df[df>0])\n",
    "\n",
    "print(df['W']>0)\n",
    "print(df[df['W']>0])\n",
    "\n",
    "print(df[df['Z']<0])\n",
    "\n",
    "print(df[df['W']>0][['Y', 'Z']])\n",
    "\n",
    "print(df[(df['W']>0) & (df['Y']>1)]) # and Condition\n",
    "print(df[(df['W']>0) | (df['Y']>1)]) # or Condition"
   ]
  },
  {
   "cell_type": "code",
   "execution_count": 38,
   "metadata": {},
   "outputs": [
    {
     "name": "stdout",
     "output_type": "stream",
     "text": [
      "          W         X         Y         Z\n",
      "A  2.706850  0.628133  0.907969  0.503826\n",
      "B  0.651118 -0.319318 -0.848077  0.605965\n",
      "C -2.018168  0.740122  0.528813 -0.589001\n",
      "D  0.188695 -0.758872 -0.933237  0.955057\n",
      "E  0.190794  1.978757  2.605967  0.683509\n",
      "          W         X         Y         Z\n",
      "A  2.706850  0.628133  0.907969  0.503826\n",
      "B  0.651118 -0.319318 -0.848077  0.605965\n",
      "C -2.018168  0.740122  0.528813 -0.589001\n",
      "D  0.188695 -0.758872 -0.933237  0.955057\n",
      "E  0.190794  1.978757  2.605967  0.683509\n"
     ]
    }
   ],
   "source": [
    "print(df)\n",
    "\n",
    "df.reset_index()\n",
    "print(df)\n",
    "\n",
    "# df.reset_index(inplace=True)\n",
    "# print(df)"
   ]
  },
  {
   "cell_type": "code",
   "execution_count": 40,
   "metadata": {},
   "outputs": [
    {
     "name": "stdout",
     "output_type": "stream",
     "text": [
      "          W         X         Y         Z States\n",
      "A  2.706850  0.628133  0.907969  0.503826     CA\n",
      "B  0.651118 -0.319318 -0.848077  0.605965     NY\n",
      "C -2.018168  0.740122  0.528813 -0.589001     WY\n",
      "D  0.188695 -0.758872 -0.933237  0.955057     OR\n",
      "E  0.190794  1.978757  2.605967  0.683509     CO\n",
      "          W         X         Y         Z States\n",
      "A  2.706850  0.628133  0.907969  0.503826     CA\n",
      "B  0.651118 -0.319318 -0.848077  0.605965     NY\n",
      "C -2.018168  0.740122  0.528813 -0.589001     WY\n",
      "D  0.188695 -0.758872 -0.933237  0.955057     OR\n",
      "E  0.190794  1.978757  2.605967  0.683509     CO\n",
      "               W         X         Y         Z\n",
      "States                                        \n",
      "CA      2.706850  0.628133  0.907969  0.503826\n",
      "NY      0.651118 -0.319318 -0.848077  0.605965\n",
      "WY     -2.018168  0.740122  0.528813 -0.589001\n",
      "OR      0.188695 -0.758872 -0.933237  0.955057\n",
      "CO      0.190794  1.978757  2.605967  0.683509\n"
     ]
    }
   ],
   "source": [
    "newind = 'CA NY WY OR CO'.split(' ')\n",
    "df['States'] = newind\n",
    "print(df)\n",
    "\n",
    "df.set_index('States') # Not inplace\n",
    "print(df)\n",
    "\n",
    "df.set_index('States', inplace=True) # Inplace\n",
    "print(df)"
   ]
  },
  {
   "cell_type": "code",
   "execution_count": 65,
   "metadata": {},
   "outputs": [
    {
     "name": "stdout",
     "output_type": "stream",
     "text": [
      "             A         B\n",
      "G1 1 -0.858304 -0.222210\n",
      "   2 -0.051203 -0.439128\n",
      "   3 -1.501041  1.058357\n",
      "G2 1  1.854967  0.502250\n",
      "   2  0.114581 -0.368487\n",
      "   3  0.459343  0.585513\n",
      "A   -1.501041\n",
      "B    1.058357\n",
      "Name: 3, dtype: float64\n",
      "A   -0.858304\n",
      "B   -0.222210\n",
      "Name: 1, dtype: float64\n",
      "[None, None]\n",
      "                   A         B\n",
      "Groups Num                    \n",
      "G1     1   -0.858304 -0.222210\n",
      "       2   -0.051203 -0.439128\n",
      "       3   -1.501041  1.058357\n",
      "G2     1    1.854967  0.502250\n",
      "       2    0.114581 -0.368487\n",
      "       3    0.459343  0.585513\n",
      "-0.36848749694743343\n",
      "            A         B\n",
      "Num                    \n",
      "1   -0.858304 -0.222210\n",
      "2   -0.051203 -0.439128\n",
      "3   -1.501041  1.058357\n",
      "               A        B\n",
      "Groups                   \n",
      "G1     -0.858304 -0.22221\n",
      "G2      1.854967  0.50225\n"
     ]
    }
   ],
   "source": [
    "# Index Levels\n",
    "\n",
    "outside = ['G1', 'G1', 'G1', 'G2', 'G2', 'G2']\n",
    "inside = [1, 2, 3, 1, 2, 3]\n",
    "hier_index = list(zip(outside, inside))\n",
    "hier_index = pd.MultiIndex.from_tuples(hier_index)\n",
    "\n",
    "df = pd.DataFrame(randn(6, 2), hier_index, ['A', 'B'])\n",
    "print(df)\n",
    "\n",
    "print(df.loc['G1'].iloc[2])\n",
    "print(df.loc['G1'].loc[1])\n",
    "\n",
    "print(df.index.names)\n",
    "df.index.names = ['Groups', 'Num']\n",
    "print(df)\n",
    "\n",
    "print(df.loc['G2'].loc[2]['B'])\n",
    "\n",
    "# Cross-Section ( Used when you have multi-level index )\n",
    "print(df.xs('G1'))\n",
    "print(df.xs(1, level='Num'))"
   ]
  },
  {
   "cell_type": "code",
   "execution_count": null,
   "metadata": {},
   "outputs": [],
   "source": []
  }
 ],
 "metadata": {
  "kernelspec": {
   "display_name": "Python 3",
   "language": "python",
   "name": "python3"
  },
  "language_info": {
   "codemirror_mode": {
    "name": "ipython",
    "version": 3
   },
   "file_extension": ".py",
   "mimetype": "text/x-python",
   "name": "python",
   "nbconvert_exporter": "python",
   "pygments_lexer": "ipython3",
   "version": "3.6.5"
  }
 },
 "nbformat": 4,
 "nbformat_minor": 2
}
