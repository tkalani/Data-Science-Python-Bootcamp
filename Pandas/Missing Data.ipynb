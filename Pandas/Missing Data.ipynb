{
 "cells": [
  {
   "cell_type": "code",
   "execution_count": 11,
   "metadata": {},
   "outputs": [],
   "source": [
    "import numpy as np\n",
    "import pandas as pd"
   ]
  },
  {
   "cell_type": "code",
   "execution_count": 12,
   "metadata": {},
   "outputs": [
    {
     "name": "stdout",
     "output_type": "stream",
     "text": [
      "     A    B  C\n",
      "0  1.0  5.0  1\n",
      "1  2.0  NaN  2\n",
      "2  NaN  NaN  3\n"
     ]
    }
   ],
   "source": [
    "d = {'A': [1, 2, np.nan], 'B': [5, np.nan, np.nan], 'C': [1, 2, 3]}\n",
    "df = pd.DataFrame(d)\n",
    "print(df)"
   ]
  },
  {
   "cell_type": "code",
   "execution_count": 23,
   "metadata": {},
   "outputs": [
    {
     "name": "stdout",
     "output_type": "stream",
     "text": [
      "     A    B  C\n",
      "0  1.0  5.0  1\n",
      "   C\n",
      "0  1\n",
      "1  2\n",
      "2  3\n",
      "     A    B  C\n",
      "0  1.0  5.0  1\n",
      "1  2.0  NaN  2\n"
     ]
    }
   ],
   "source": [
    "# Drop missing values\n",
    "\n",
    "# By default : \n",
    "    # not in-place\n",
    "    # axis=0 ( For rows )\n",
    "\n",
    "print(df.dropna())\n",
    "\n",
    "print(df.dropna(axis=1))\n",
    "\n",
    "print(df.dropna(thresh=2)) # Keep all rows which have at least <<thresh>> non-na values."
   ]
  },
  {
   "cell_type": "code",
   "execution_count": 33,
   "metadata": {},
   "outputs": [
    {
     "name": "stdout",
     "output_type": "stream",
     "text": [
      "       A      B  C\n",
      "0    1.0    5.0  1\n",
      "1    2.0  100.0  2\n",
      "2  100.0  100.0  3\n",
      "0    1.0\n",
      "1    2.0\n",
      "2    1.5\n",
      "Name: A, dtype: float64\n",
      "     A    B  C\n",
      "0  1.0  5.0  1\n",
      "1  2.0  5.0  2\n",
      "2  3.0  5.0  3\n"
     ]
    }
   ],
   "source": [
    "# Fill Missing values\n",
    "\n",
    "# By default : \n",
    "    # not in-place\n",
    "    # axis=0 ( For rows )\n",
    "    \n",
    "print(df.fillna(value=100)) # Fills all missing values in the data-frame with the same value\n",
    "\n",
    "print(df['A'].fillna(value=df['A'].mean())) # Fills all missing values col 'A' in the data-frame with its mean value\n",
    "\n",
    "print(df.fillna(value=df.sum())) # Fills missing values in every column by sum of every column"
   ]
  },
  {
   "cell_type": "code",
   "execution_count": null,
   "metadata": {},
   "outputs": [],
   "source": []
  }
 ],
 "metadata": {
  "kernelspec": {
   "display_name": "Python 3",
   "language": "python",
   "name": "python3"
  },
  "language_info": {
   "codemirror_mode": {
    "name": "ipython",
    "version": 3
   },
   "file_extension": ".py",
   "mimetype": "text/x-python",
   "name": "python",
   "nbconvert_exporter": "python",
   "pygments_lexer": "ipython3",
   "version": "3.6.5"
  }
 },
 "nbformat": 4,
 "nbformat_minor": 2
}
